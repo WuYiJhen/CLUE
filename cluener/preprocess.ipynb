{
 "cells": [
  {
   "cell_type": "code",
   "execution_count": null,
   "metadata": {},
   "outputs": [],
   "source": [
    "import json\n",
    "import pickle\n",
    "import pandas as pd"
   ]
  },
  {
   "cell_type": "code",
   "execution_count": null,
   "metadata": {},
   "outputs": [],
   "source": [
    "train_data = []\n",
    "with open('./data/train.json', encoding='utf-8') as file:\n",
    "    for line in file:\n",
    "        train_data.append(json.loads(line))\n",
    "file.close()\n",
    "\n",
    "\n",
    "dev_data = []\n",
    "with open('./data/dev.json', encoding='utf-8') as file:\n",
    "    for line in file:\n",
    "        dev_data.append(json.loads(line))\n",
    "file.close()\n",
    "\n",
    "test_data = []\n",
    "with open('./data/test.json', encoding='utf-8') as file:\n",
    "    for line in file:\n",
    "        test_data.append(json.loads(line))\n",
    "file.close()"
   ]
  },
  {
   "cell_type": "code",
   "execution_count": null,
   "metadata": {},
   "outputs": [],
   "source": [
    "# submit_data = []\n",
    "# with open('./data/cluener_predict.json', encoding='utf-8') as file:\n",
    "#     for line in file:\n",
    "#         submit_data.append(json.loads(line))\n",
    "# file.close()"
   ]
  },
  {
   "cell_type": "code",
   "execution_count": null,
   "metadata": {},
   "outputs": [],
   "source": [
    "print(len(train_data))\n",
    "print(len(dev_data))\n",
    "print(len(test_data))"
   ]
  },
  {
   "cell_type": "code",
   "execution_count": null,
   "metadata": {},
   "outputs": [],
   "source": [
    "# count_ = {}\n",
    "# for k in range(len(train_data)):\n",
    "#     ll = train_data[k]['label']\n",
    "#     for k, v in ll.items():\n",
    "#         for r, s in v.items():\n",
    "#             if k not in count_:\n",
    "#                 count_[k] = 0\n",
    "#             for ss in s:\n",
    "#                 count_[k] += 1"
   ]
  },
  {
   "cell_type": "code",
   "execution_count": null,
   "metadata": {},
   "outputs": [],
   "source": [
    "def data_generator(data, Type='train'):\n",
    "    '''\n",
    "    Type: \"train\", \"dev\", \"test\"\n",
    "    '''\n",
    "    res = []\n",
    "    for idx in range(len(data)):\n",
    "        text = list(data[idx]['text'])\n",
    "        if Type in ['train', 'dev']: \n",
    "            label = data[idx]['label']\n",
    "            ner = ['O'] * len(text)\n",
    "            for k, v in label.items():\n",
    "                for j, r in v.items():\n",
    "                    for l in r:\n",
    "                        for n, m in enumerate(range(l[0], l[1]+1)):\n",
    "                            if n == 0:\n",
    "                                ner[m] = 'B-' + k  \n",
    "                            else:\n",
    "                                ner[m] = 'I-' + k\n",
    "            if Type == 'dev':\n",
    "                res.append([str(idx), ' '.join(text), ' '.join(ner)])\n",
    "            else:\n",
    "                res.append([' '.join(text), ' '.join(ner)])\n",
    "        elif Type == 'test':\n",
    "            res.append([str(data[idx]['id']), ' '.join(text)])\n",
    "    return res"
   ]
  },
  {
   "cell_type": "code",
   "execution_count": null,
   "metadata": {},
   "outputs": [],
   "source": [
    "train = data_generator(train_data, 'train')\n",
    "dev = data_generator(dev_data, 'dev')\n",
    "test = data_generator(test_data, 'test')"
   ]
  },
  {
   "cell_type": "code",
   "execution_count": null,
   "metadata": {},
   "outputs": [],
   "source": [
    "train = pd.DataFrame(train)\n",
    "dev = pd.DataFrame(dev)\n",
    "test = pd.DataFrame(test)\n",
    "\n",
    "train.columns = ['content', 'ner']\n",
    "dev.columns = ['id', 'content', 'ner']\n",
    "test.columns = ['id', 'content']"
   ]
  },
  {
   "cell_type": "code",
   "execution_count": null,
   "metadata": {},
   "outputs": [],
   "source": [
    "from sklearn.model_selection import train_test_split\n",
    "train, valid = train_test_split(train, train_size=0.9, random_state=42)\n",
    "train = train.reset_index(drop=True)\n",
    "valid = valid.reset_index(drop=True)"
   ]
  },
  {
   "cell_type": "code",
   "execution_count": null,
   "metadata": {},
   "outputs": [],
   "source": [
    "# train.to_csv('./data/cluener_train_v2.csv', index=False)\n",
    "# valid.to_csv('./data/cluener_valid_v2.csv', index=False)"
   ]
  },
  {
   "cell_type": "code",
   "execution_count": null,
   "metadata": {},
   "outputs": [],
   "source": [
    "dev.to_csv('./data/cluener_dev_v2.csv')"
   ]
  },
  {
   "cell_type": "code",
   "execution_count": null,
   "metadata": {},
   "outputs": [],
   "source": [
    "test.to_csv('./data/cluener_test_v2.csv')"
   ]
  },
  {
   "cell_type": "code",
   "execution_count": null,
   "metadata": {},
   "outputs": [],
   "source": [
    "tags = []\n",
    "for k in data['ner']:\n",
    "    for j in k.split(' '):\n",
    "        tags.append(j)\n",
    "pd.Series(tags).value_counts()[1:]/pd.Series(tags).value_counts()[1:].sum() * 100"
   ]
  },
  {
   "cell_type": "code",
   "execution_count": null,
   "metadata": {},
   "outputs": [],
   "source": [
    "tags = set()\n",
    "for k in data['ner']:\n",
    "    for j in k.split(' '):\n",
    "        tags.update([j])"
   ]
  },
  {
   "cell_type": "code",
   "execution_count": null,
   "metadata": {},
   "outputs": [],
   "source": [
    "ner2int = dict(zip(tags, range(len(tags))))"
   ]
  },
  {
   "cell_type": "code",
   "execution_count": null,
   "metadata": {},
   "outputs": [],
   "source": [
    "# with open('./token_info/ner2int.pickle', 'wb') as output:\n",
    "#     pickle.dump(ner2int, output)\n",
    "# output.close()"
   ]
  }
 ],
 "metadata": {
  "kernelspec": {
   "display_name": "Python 3",
   "language": "python",
   "name": "python3"
  },
  "language_info": {
   "codemirror_mode": {
    "name": "ipython",
    "version": 3
   },
   "file_extension": ".py",
   "mimetype": "text/x-python",
   "name": "python",
   "nbconvert_exporter": "python",
   "pygments_lexer": "ipython3",
   "version": "3.6.9"
  }
 },
 "nbformat": 4,
 "nbformat_minor": 4
}
